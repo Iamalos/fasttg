{
 "cells": [
  {
   "cell_type": "markdown",
   "id": "0320f7d0-4cca-47a6-bb00-b245378830a9",
   "metadata": {},
   "source": [
    "## TG bot \n",
    "> Main bot functionality\n"
   ]
  },
  {
   "cell_type": "code",
   "execution_count": 1,
   "id": "810330e2-8d39-431c-8856-651a2c8027ed",
   "metadata": {},
   "outputs": [],
   "source": [
    "#| default_exp tgbot"
   ]
  },
  {
   "cell_type": "code",
   "execution_count": 2,
   "id": "c8492140-91eb-4134-a8ab-ced388623b72",
   "metadata": {},
   "outputs": [],
   "source": [
    "#!pip install -Uq telethon \n",
    "# see https://docs.telethon.dev/en/stable/basic/installation.html#optional-dependencies\n",
    "#!pip install -Uq telethon cryptg pillow\n",
    "#!pip install -Uq python-dotenv"
   ]
  },
  {
   "cell_type": "code",
   "execution_count": 3,
   "id": "d3d1671f-49aa-4e85-863c-7d8e2c0921e0",
   "metadata": {},
   "outputs": [],
   "source": [
    "from telethon import TelegramClient, events\n",
    "import asyncio, os, json, logging\n",
    "from dotenv import load_dotenv;from pathlib import Path; from datetime import datetime"
   ]
  },
  {
   "cell_type": "code",
   "execution_count": 4,
   "id": "529b6fe6-0099-4567-b77e-b809e5a79e4c",
   "metadata": {},
   "outputs": [],
   "source": [
    "# For running in Jupyter/IPython\n",
    "import nest_asyncio\n",
    "nest_asyncio.apply()"
   ]
  },
  {
   "cell_type": "code",
   "execution_count": 5,
   "id": "ab802ad4-5679-4fb5-82bd-656e6340f39b",
   "metadata": {},
   "outputs": [],
   "source": [
    "#| export\n",
    "def setup_logging():\n",
    "    log_file = f'bot_{datetime.now().strftime(\"%Y%m%d\")}.log'\n",
    "\n",
    "    # Set Telethon Logger to only show WARNING and above\n",
    "    telethon_logger = logging.getLogger('telethon')\n",
    "    telethon_logger.setLevel(logging.WARNING)\n",
    "    \n",
    "    logging.basicConfig(\n",
    "        level=logging.INFO,\n",
    "        format='%(asctime)s - %(levelname)s - %(message)s',\n",
    "        handlers = [\n",
    "            logging.FileHandler(log_file),\n",
    "            logging.StreamHandler()\n",
    "        ],\n",
    "        datefmt='%Y-%m-%d %H:%M:%S'\n",
    "    )\n",
    "    return logging.getLogger('telegram_monitor')"
   ]
  },
  {
   "cell_type": "code",
   "execution_count": 6,
   "id": "b13a8e1f-fb0c-4cd6-ae46-7f27aee1b668",
   "metadata": {},
   "outputs": [],
   "source": [
    "#! rm bot_{datetime.now().strftime(\"%Y%m%d\")}.log\n",
    "# ! rm settings*.json"
   ]
  },
  {
   "cell_type": "markdown",
   "id": "5f8ee937-3694-402b-a1a1-e152cf36624a",
   "metadata": {},
   "source": [
    "## Setup"
   ]
  },
  {
   "cell_type": "code",
   "execution_count": 7,
   "id": "708e7053-95f8-4453-8296-1e40ba447333",
   "metadata": {},
   "outputs": [],
   "source": [
    "# test_settings = {\n",
    "#     \"keywords\": [\"python\", \"ai\", \"machine learning\", \"data science\"],\n",
    "#     \"channels\": [\"ejdailyru\", \"pythonnews\", \"fastdotai\"]\n",
    "# }\n",
    "\n",
    "# # Write to file\n",
    "# Path('settings.json').write_text(json.dumps(test_settings, indent=2))\n",
    "# data = json.loads(Path('settings.json').read_text())\n",
    "# json.dumps(test_settings)"
   ]
  },
  {
   "cell_type": "code",
   "execution_count": 8,
   "id": "352a52c1-8eed-4817-975a-fe4badd908f7",
   "metadata": {},
   "outputs": [],
   "source": [
    "#| export\n",
    "class Settings:\n",
    "    def __init__(self, filepath='settings.json'):\n",
    "        self.filepath = Path(filepath)\n",
    "        self.keywords, self.channels= set(), set()\n",
    "        self.load()\n",
    "        \n",
    "    def load(self):\n",
    "        if self.filepath.exists(): \n",
    "            data = json.loads(self.filepath.read_text())\n",
    "            self.keywords = set(data.get('keywords',[]))\n",
    "            self.channels = set(data.get('channels',[]))\n",
    "\n",
    "    def save(self):\n",
    "        data = {'keywords': list(self.keywords), 'channels': list(self.channels)}\n",
    "        self.filepath.write_text(json.dumps(data, indent=2))"
   ]
  },
  {
   "cell_type": "code",
   "execution_count": 9,
   "id": "208cffea-0bbd-4fdd-99f4-459c972e42d1",
   "metadata": {},
   "outputs": [],
   "source": [
    "#| export\n",
    "load_dotenv()\n",
    "api_id = os.getenv('TELEGRAM_API_ID')\n",
    "api_hash = os.getenv('TELEGRAM_API_HASH')\n",
    "bot_token = os.getenv('BOT_TOKEN')\n",
    "\n",
    "logger = setup_logging()\n",
    "settings = Settings()\n",
    "client = TelegramClient('TGv2', api_id, api_hash)\n",
    "bot = TelegramClient('bot', api_id, api_hash)#.start(bot_token=bot_token)"
   ]
  },
  {
   "cell_type": "markdown",
   "id": "274e434f-0e3c-4fc9-af34-1988098974f1",
   "metadata": {},
   "source": [
    "### Keywords management"
   ]
  },
  {
   "cell_type": "code",
   "execution_count": 10,
   "id": "96530d76-f943-4960-b4e9-2aeb8a8663d4",
   "metadata": {},
   "outputs": [],
   "source": [
    "#| export\n",
    "@bot.on(events.NewMessage(pattern='/add_keyword (.+)'))\n",
    "async def add_keyword(event):\n",
    "    try:\n",
    "        new_keywords = {k.strip().lower() for k in event.pattern_match.group(1).replace(',', ' ').split()} \n",
    "        settings.keywords.update(new_keywords)\n",
    "        settings.save()\n",
    "        logger.info(f'Added new keywords: {new_keywords}')\n",
    "        await event.respond(f'Added keywords: {\", \".join(new_keywords)}')\n",
    "    except Exception as e:\n",
    "        logger.error(f\"Error adding keywords: {str(e)}\", exc_info=True)\n",
    "        await event.respond(\"Error adding keywords. Please try again.\")"
   ]
  },
  {
   "cell_type": "code",
   "execution_count": 11,
   "id": "b1f957e4-924a-4c5e-b800-1a6225f196e2",
   "metadata": {},
   "outputs": [],
   "source": [
    "#| export\n",
    "@bot.on(events.NewMessage(pattern='/list_keywords'))\n",
    "async def list_keywords(event):\n",
    "    try:\n",
    "        logger.info(\"Listing keywords\")\n",
    "        await event.respond(f'Keywords: {\", \".join(settings.keywords) or \"none\"}')\n",
    "    except Exception as e:\n",
    "        logger.error(f\"Error listing keywords: {str(e)}\", exc_info=True)\n",
    "        await event.respond(\"Error listing keywords. Please try again.\")"
   ]
  },
  {
   "cell_type": "markdown",
   "id": "baac172c-81ea-4753-af9a-7d3f7b33a64f",
   "metadata": {},
   "source": [
    "### Channels management"
   ]
  },
  {
   "cell_type": "code",
   "execution_count": 12,
   "id": "85d31d53-888c-4f78-906f-e7c8720169af",
   "metadata": {},
   "outputs": [],
   "source": [
    "#| export\n",
    "@bot.on(events.NewMessage(pattern='/add_channel (.+)'))\n",
    "async def add_channel(event):\n",
    "    try:\n",
    "        new_channels = {c.strip().lower().replace('@', '') for c \n",
    "                        in event.pattern_match.group(1).replace(',', ' ').split()}\n",
    "        settings.channels.update(new_channels)\n",
    "        # update monitoring logic\n",
    "        await update_monitored_channels()\n",
    "        settings.save()\n",
    "        await event.respond(f'Added channels: {\", \".join(\"@\" + c for c in new_channels)}')\n",
    "    except Exception as e:\n",
    "        logger.error(\"Error adding channels: {str(e)}\", exc_info=True)\n",
    "        await event.respiond(\"Error adding channels. Please try again.\")"
   ]
  },
  {
   "cell_type": "code",
   "execution_count": 13,
   "id": "257d9b54-ab5a-45eb-9b45-62681c4ba79d",
   "metadata": {},
   "outputs": [],
   "source": [
    "#| export\n",
    "async def update_monitored_channels():\n",
    "    try:\n",
    "        # Remove existing handler if any\n",
    "        client.remove_event_handler(monitor_channels)\n",
    "        if settings.channels:\n",
    "            # Add new handler with current channels\n",
    "            client.add_event_handler(monitor_channels, events.NewMessage(chats=list(settings.channels)))\n",
    "            logger.info(f\"Updated monitored channels: {settings.channels}\")\n",
    "        else:\n",
    "            logger.info(\"No channels to monitor.\")\n",
    "    except Exception as e:\n",
    "        logger.error(f\"Error updating monitored channels: {str(e)}\", exc_info=True)"
   ]
  },
  {
   "cell_type": "code",
   "execution_count": 14,
   "id": "66fece9d-36e1-4a3d-97d1-f328c160ee01",
   "metadata": {},
   "outputs": [],
   "source": [
    "#| export\n",
    "@bot.on(events.NewMessage(pattern='/list_channels'))\n",
    "async def list_channels(event):\n",
    "    try:\n",
    "        logger.info(\"Listing channels\")\n",
    "        await event.respond(f'Monitored channels: {\", \".join(\"@\" + c for c in settings.channels) or \"none\"}')\n",
    "\n",
    "    except Exception as e:\n",
    "        logger.error(f\"Error listing channels: {str(e)}\", exc_info=True)\n",
    "        await event.respond(\"Error listing channels. Please try again\")"
   ]
  },
  {
   "cell_type": "markdown",
   "id": "d5b79c5c-f68b-430e-b2d7-4dfa50994a5b",
   "metadata": {},
   "source": [
    "### Monitoring"
   ]
  },
  {
   "cell_type": "code",
   "execution_count": 15,
   "id": "9d50fdea-e11f-4519-b41a-a2a4b25004f6",
   "metadata": {},
   "outputs": [],
   "source": [
    "#| export\n",
    "async def monitor_channels(event):\n",
    "    try:\n",
    "        if any(k.lower() in event.text.lower() for k in settings.keywords):\n",
    "            # TODO: forward message + highlight found text. Now we don't get any text context - just check that it is in message\n",
    "            channel = await event.get_chat()\n",
    "            logger.info(f\"Keyword match in @{channel.username}\")\n",
    "    except Exception as e:\n",
    "        logger.error(f\"Error in monitor_channels: {str(e)}\", exc_info=True)"
   ]
  },
  {
   "cell_type": "code",
   "execution_count": 16,
   "id": "ed53e095-113c-4d49-a833-b44e1ec2486a",
   "metadata": {},
   "outputs": [],
   "source": [
    "#| export\n",
    "async def main():\n",
    "    try:\n",
    "        logger.info(\"Starting bot...\")\n",
    "        await client.start()\n",
    "        await bot.start(bot_token=bot_token)\n",
    "        # Initial setup of monitoring\n",
    "        await update_monitored_channels() \n",
    "        logger.info(\"Bot started successfully\")\n",
    "        # Run both clients concurrently\n",
    "        await asyncio.gather(\n",
    "            client.run_until_disconnected(),\n",
    "            bot.run_until_disconnected()\n",
    "        )\n",
    "      \n",
    "    except Exception as e:\n",
    "        logger.error(f\"Error in main: {str(e)}\", exc_info=True)\n",
    "\n",
    "    finally:\n",
    "        await client.disconnect()\n",
    "        logger.info(\"Client shutting down...\")\n",
    "        await bot.disconnect()\n",
    "        logger.info(\"Bot shutting down...\")"
   ]
  },
  {
   "cell_type": "code",
   "execution_count": null,
   "id": "15856755-96de-4efa-9fe6-1b6c920fc9df",
   "metadata": {},
   "outputs": [],
   "source": [
    "#| export\n",
    "#if __name__ == '__main__':\n",
    "#    asyncio.run(main())"
   ]
  },
  {
   "cell_type": "markdown",
   "id": "08846c39-68b7-4d7b-99ab-2ac8994968ce",
   "metadata": {
    "collapsed": true,
    "jupyter": {
     "outputs_hidden": true
    },
    "scrolled": true
   },
   "source": [
    "try:\n",
    "    await main()\n",
    "except KeyboardInterrupt:\n",
    "    print(\"Interrupted! Disconnecting client...\")\n",
    "    #await client.disconnect()\n",
    "    #await bot.disconnect()"
   ]
  },
  {
   "cell_type": "code",
   "execution_count": 4,
   "id": "ea3853a5-45cc-4306-9e51-17b256a2f386",
   "metadata": {},
   "outputs": [],
   "source": [
    "from nbdev.export import nb_export\n",
    "nb_export('TGv2.ipynb')"
   ]
  },
  {
   "cell_type": "markdown",
   "id": "416f80cc-9a0b-42b1-b806-b723da149cd8",
   "metadata": {},
   "source": [
    "## Testing"
   ]
  },
  {
   "cell_type": "markdown",
   "id": "9cca7f33-85a3-414d-a054-dcc4576c45d0",
   "metadata": {},
   "source": [
    "Test getting messages from a specified channel and checking if they contain keywords."
   ]
  },
  {
   "cell_type": "code",
   "execution_count": 18,
   "id": "30e497bf-e0aa-4d82-8987-4f06a1197c96",
   "metadata": {
    "jupyter": {
     "source_hidden": true
    }
   },
   "outputs": [],
   "source": [
    "channel_username = 'ejdailyru'\n",
    "keywords = {'на', 'по', 'и', 'в'}"
   ]
  },
  {
   "cell_type": "code",
   "execution_count": 19,
   "id": "17735b29-2425-4e66-943c-2a825fb82cca",
   "metadata": {
    "jupyter": {
     "source_hidden": true
    }
   },
   "outputs": [],
   "source": [
    "def contains_keywords(text: str, keywords: list[str]) -> bool:\n",
    "    return any(keyword.lower() in text.lower() for keyword in keywords)"
   ]
  },
  {
   "cell_type": "code",
   "execution_count": 20,
   "id": "72048c60-369f-4068-a41f-e2ea708a5c2e",
   "metadata": {
    "jupyter": {
     "source_hidden": true
    }
   },
   "outputs": [],
   "source": [
    "async def test_get_messages():\n",
    "    try:\n",
    "        await client.start()\n",
    "        # Let's test with a simple message retrieval\n",
    "        messages = await client.get_messages(channel_username, limit=3)\n",
    "        for msg in messages: \n",
    "            #print(f\"{msg.text[:10]}...\\n\" if msg.text else 'No text')\n",
    "            if msg.text and contains_keywords(msg.text, keywords): print(f\"Found keyword in message: {msg.text[:100]}...\")\n",
    "            \n",
    "    except Exception as e:\n",
    "        print(str(e))\n",
    "\n",
    "    finally:\n",
    "        await client.disconnect()\n",
    "        print(\"Client disconnected!\")"
   ]
  },
  {
   "cell_type": "code",
   "execution_count": null,
   "id": "06156915-8205-444e-bf84-bb872078d0a7",
   "metadata": {
    "jupyter": {
     "source_hidden": true
    }
   },
   "outputs": [],
   "source": [
    "# Now try running the main function\n",
    "try:\n",
    "    await test_get_messages()\n",
    "except KeyboardInterrupt:\n",
    "    print(\"Interrupted! Disconnecting client...\")\n",
    "    await client.disconnect()"
   ]
  },
  {
   "cell_type": "markdown",
   "id": "b9b3ffa1-25d6-4f3c-8601-e9026c6e72f5",
   "metadata": {},
   "source": [
    "Test getting new message from a specific channel"
   ]
  },
  {
   "cell_type": "code",
   "execution_count": null,
   "id": "a720ce76-eabd-4f22-9ab7-411f3cc21836",
   "metadata": {
    "jupyter": {
     "source_hidden": true
    }
   },
   "outputs": [],
   "source": [
    "@client.on(events.NewMessage(chats=channel_username))\n",
    "async def handler(event):\n",
    "    if any(k.lower() in event.text.lower() for k in keywords):\n",
    "        print(f\"Keyword found in message: {event.text[:100]}...\")\n"
   ]
  },
  {
   "cell_type": "code",
   "execution_count": null,
   "id": "ba810bff-dae7-40fb-b6fd-ddd35705efd8",
   "metadata": {
    "jupyter": {
     "source_hidden": true
    }
   },
   "outputs": [],
   "source": [
    "async def main():\n",
    "    try:\n",
    "        await client.start()\n",
    "        await client.run_until_disconnected()\n",
    "      \n",
    "    except Exception as e:\n",
    "        print(str(e))\n",
    "\n",
    "    finally:\n",
    "        await client.disconnect()\n",
    "        print(\"Client disconnected!\")"
   ]
  },
  {
   "cell_type": "code",
   "execution_count": null,
   "id": "4a353cf4-7c7d-4789-b1ad-5d3416b91f23",
   "metadata": {
    "scrolled": true
   },
   "outputs": [],
   "source": [
    "# # Now try running the main function\n",
    "# try:\n",
    "#     await main()\n",
    "# except KeyboardInterrupt:\n",
    "#     print(\"Interrupted! Disconnecting client...\")\n",
    "#     await client.disconnect()"
   ]
  },
  {
   "cell_type": "code",
   "execution_count": null,
   "id": "0c53eea3-f241-41a0-8a78-48e4547179f7",
   "metadata": {},
   "outputs": [],
   "source": []
  }
 ],
 "metadata": {
  "kernelspec": {
   "display_name": "Python 3 (ipykernel)",
   "language": "python",
   "name": "python3"
  },
  "language_info": {
   "codemirror_mode": {
    "name": "ipython",
    "version": 3
   },
   "file_extension": ".py",
   "mimetype": "text/x-python",
   "name": "python",
   "nbconvert_exporter": "python",
   "pygments_lexer": "ipython3",
   "version": "3.12.8"
  }
 },
 "nbformat": 4,
 "nbformat_minor": 5
}
