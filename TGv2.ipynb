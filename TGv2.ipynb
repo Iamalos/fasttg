{
 "cells": [
  {
   "cell_type": "markdown",
   "id": "0320f7d0-4cca-47a6-bb00-b245378830a9",
   "metadata": {},
   "source": [
    "## TG bot "
   ]
  },
  {
   "cell_type": "code",
   "execution_count": 1,
   "id": "c8492140-91eb-4134-a8ab-ced388623b72",
   "metadata": {},
   "outputs": [],
   "source": [
    "#!pip install -Uq telethon \n",
    "# see https://docs.telethon.dev/en/stable/basic/installation.html#optional-dependencies\n",
    "#!pip install -Uq telethon cryptg pillow\n",
    "#!pip install -Uq python-dotenv"
   ]
  },
  {
   "cell_type": "code",
   "execution_count": 2,
   "id": "d3d1671f-49aa-4e85-863c-7d8e2c0921e0",
   "metadata": {},
   "outputs": [],
   "source": [
    "from telethon import TelegramClient, events\n",
    "import asyncio\n",
    "from dotenv import load_dotenv\n",
    "import os, json\n",
    "from pathlib import Path\n",
    "import logging\n",
    "from datetime import datetime"
   ]
  },
  {
   "cell_type": "code",
   "execution_count": 3,
   "id": "529b6fe6-0099-4567-b77e-b809e5a79e4c",
   "metadata": {},
   "outputs": [],
   "source": [
    "# For running in Jupyter/IPython\n",
    "import nest_asyncio\n",
    "nest_asyncio.apply()"
   ]
  },
  {
   "cell_type": "code",
   "execution_count": 4,
   "id": "ab802ad4-5679-4fb5-82bd-656e6340f39b",
   "metadata": {},
   "outputs": [],
   "source": [
    "def setup_logging():\n",
    "    log_file = f'bot_{datetime.now().strftime(\"%Y%m%d\")}.log'\n",
    "\n",
    "    logging.basicConfig(\n",
    "        level=logging.INFO,\n",
    "        format='%(asctime)s - %(levelname)s - %(message)s',\n",
    "        handlers = [\n",
    "            logging.FileHandler(log_file),\n",
    "            logging.StreamHandler()\n",
    "        ],\n",
    "        datefmt='%Y-%m-%d %H:%M:%S'\n",
    "    )\n",
    "    return logging.getLogger('telegram_monitor')"
   ]
  },
  {
   "cell_type": "code",
   "execution_count": 5,
   "id": "b13a8e1f-fb0c-4cd6-ae46-7f27aee1b668",
   "metadata": {},
   "outputs": [],
   "source": [
    "#! rm bot_{datetime.now().strftime(\"%Y%m%d\")}.log\n",
    "# ! rm settings*.json"
   ]
  },
  {
   "cell_type": "markdown",
   "id": "5f8ee937-3694-402b-a1a1-e152cf36624a",
   "metadata": {},
   "source": [
    "## Setup"
   ]
  },
  {
   "cell_type": "code",
   "execution_count": 6,
   "id": "708e7053-95f8-4453-8296-1e40ba447333",
   "metadata": {},
   "outputs": [],
   "source": [
    "# test_settings = {\n",
    "#     \"keywords\": [\"python\", \"ai\", \"machine learning\", \"data science\"],\n",
    "#     \"channels\": [\"ejdailyru\", \"pythonnews\", \"fastdotai\"]\n",
    "# }\n",
    "\n",
    "# # Write to file\n",
    "# Path('settings.json').write_text(json.dumps(test_settings, indent=2))\n",
    "# data = json.loads(Path('settings.json').read_text())\n",
    "# json.dumps(test_settings)"
   ]
  },
  {
   "cell_type": "code",
   "execution_count": 7,
   "id": "352a52c1-8eed-4817-975a-fe4badd908f7",
   "metadata": {},
   "outputs": [],
   "source": [
    "class Settings:\n",
    "    def __init__(self, filepath='settings.json'):\n",
    "        self.filepath = Path(filepath)\n",
    "        self.keywords, self.channels= set(), set()\n",
    "        self.load()\n",
    "        \n",
    "    def load(self):\n",
    "        if self.filepath.exists(): \n",
    "            data = json.loads(self.filepath.read_text())\n",
    "            self.keywords = set(data.get('keywords',[]))\n",
    "            self.channels = set(data.get('channels',[]))\n",
    "\n",
    "    def save(self):\n",
    "        data = {'keywords': list(self.keywords), 'channels': list(self.channels)}\n",
    "        self.filepath.write_text(json.dumps(data, indent=2))"
   ]
  },
  {
   "cell_type": "code",
   "execution_count": 8,
   "id": "208cffea-0bbd-4fdd-99f4-459c972e42d1",
   "metadata": {},
   "outputs": [],
   "source": [
    "logger = setup_logging()\n",
    "\n",
    "load_dotenv()\n",
    "api_id = os.getenv('TELEGRAM_API_ID')\n",
    "api_hash = os.getenv('TELEGRAM_API_HASH')\n",
    "bot_token = os.getenv('BOT_TOKEN')\n",
    "\n",
    "settings = Settings()\n",
    "client = TelegramClient('TGv2', api_id, api_hash)\n",
    "bot = TelegramClient('bot', api_id, api_hash)#.start(bot_token=bot_token)"
   ]
  },
  {
   "cell_type": "markdown",
   "id": "274e434f-0e3c-4fc9-af34-1988098974f1",
   "metadata": {},
   "source": [
    "### Keywords management"
   ]
  },
  {
   "cell_type": "code",
   "execution_count": 9,
   "id": "96530d76-f943-4960-b4e9-2aeb8a8663d4",
   "metadata": {},
   "outputs": [],
   "source": [
    "@bot.on(events.NewMessage(pattern='/add_keyword (.+)'))\n",
    "async def add_keyword(event):\n",
    "    try:\n",
    "        new_keywords = {k.strip().lower() for k in event.pattern_match.group(1).replace(',', ' ').split()} \n",
    "        settings.keywords.update(new_keywords)\n",
    "        settings.save()\n",
    "        logger.info(f'Added new keywords: {new_keywords}')\n",
    "        await event.respond(f'Added keywords: {\", \".join(new_keywords)}')\n",
    "    except Exception as e:\n",
    "        logger.error(f\"Error adding keywords: {str(e)}\", exc_info=True)\n",
    "        await event.respond(\"Error adding keywords. Please try again.\")"
   ]
  },
  {
   "cell_type": "code",
   "execution_count": 10,
   "id": "b1f957e4-924a-4c5e-b800-1a6225f196e2",
   "metadata": {},
   "outputs": [],
   "source": [
    "@bot.on(events.NewMessage(pattern='/list_keywords'))\n",
    "async def list_keywords(event):\n",
    "    try:\n",
    "        logger.info(\"Listing keywords\")\n",
    "        await event.respond(f'Keywords: {\", \".join(settings.keywords) or \"none\"}')\n",
    "    except Exception as e:\n",
    "        logger.error(f\"Error listing keywords: {str(e)}\", exc_info=True)\n",
    "        await event.respond(\"Error listing keywords. Please try again.\")"
   ]
  },
  {
   "cell_type": "markdown",
   "id": "baac172c-81ea-4753-af9a-7d3f7b33a64f",
   "metadata": {},
   "source": [
    "### Channels management"
   ]
  },
  {
   "cell_type": "code",
   "execution_count": 11,
   "id": "85d31d53-888c-4f78-906f-e7c8720169af",
   "metadata": {},
   "outputs": [],
   "source": [
    "@bot.on(events.NewMessage(pattern='/add_channel (.+)'))\n",
    "async def add_channel(event):\n",
    "    try:\n",
    "        new_channels = {c.strip().lower().replace('@', '') for c \n",
    "                        in event.pattern_match.group(1).replace(',', ' ').split()}\n",
    "        settings.channels.update(new_channels)\n",
    "        # update monitoring logic\n",
    "        await update_monitored_channels()\n",
    "        settings.save()\n",
    "        await event.respond(f'Added channels: {\", \".join(\"@\" + c for c in new_channels)}')\n",
    "    except Exception as e:\n",
    "        logger.error(\"Error adding channels: {str(e)}\", exc_info=True)\n",
    "        await event.respiond(\"Error adding channels. Please try again.\")"
   ]
  },
  {
   "cell_type": "code",
   "execution_count": 12,
   "id": "257d9b54-ab5a-45eb-9b45-62681c4ba79d",
   "metadata": {},
   "outputs": [],
   "source": [
    "async def update_monitored_channels():\n",
    "    try:\n",
    "        # Remove existing handler if any\n",
    "        client.remove_event_handler(monitor_channels)\n",
    "        if settings.channels:\n",
    "            # Add new handler with current channels\n",
    "            client.add_event_handler(monitor_channels, events.NewMessage(chats=list(settings.channels)))\n",
    "            logger.info(f\"Updated monitored channels: {settings.channels}\")\n",
    "        else:\n",
    "            logger.info(\"No channels to monitor.\")\n",
    "    except Exception as e:\n",
    "        logger.error(f\"Error updating monitored channels: {str(e)}\", exc_info=True)"
   ]
  },
  {
   "cell_type": "code",
   "execution_count": 13,
   "id": "66fece9d-36e1-4a3d-97d1-f328c160ee01",
   "metadata": {},
   "outputs": [],
   "source": [
    "@bot.on(events.NewMessage(pattern='/list_channels'))\n",
    "async def list_channels(event):\n",
    "    try:\n",
    "        logger.info(\"Listing channels\")\n",
    "        await event.respond(f'Monitored channels: {\", \".join(\"@\" + c for c in settings.channels) or \"none\"}')\n",
    "\n",
    "    except Exception as e:\n",
    "        logger.error(f\"Error listing channels: {str(e)}\", exc_info=True)\n",
    "        await event.respond(\"Error listing channels. Please try again\")"
   ]
  },
  {
   "cell_type": "markdown",
   "id": "d5b79c5c-f68b-430e-b2d7-4dfa50994a5b",
   "metadata": {},
   "source": [
    "### Monitoring"
   ]
  },
  {
   "cell_type": "code",
   "execution_count": 14,
   "id": "9d50fdea-e11f-4519-b41a-a2a4b25004f6",
   "metadata": {},
   "outputs": [],
   "source": [
    "async def monitor_channels(event):\n",
    "    try:\n",
    "        if any(k.lower() in event.text.lower() for k in settings.keywords):\n",
    "            # TODO = forward message + highlight found text\n",
    "            channel = await event.get_chat()\n",
    "            logger.info(f\"Keyword match in @{channel.username}\")\n",
    "    except Exception as e:\n",
    "        logger.error(f\"Error in monitor_channels: {str(e)}\", exc_info=True)"
   ]
  },
  {
   "cell_type": "code",
   "execution_count": 15,
   "id": "ed53e095-113c-4d49-a833-b44e1ec2486a",
   "metadata": {},
   "outputs": [],
   "source": [
    "async def main():\n",
    "    try:\n",
    "        logger.info(\"Starting bot...\")\n",
    "        await client.start()\n",
    "        await bot.start(bot_token=bot_token)\n",
    "        # Initial setup of monitoring\n",
    "        await update_monitored_channels() \n",
    "        logger.info(\"Bot started successfully\")\n",
    "        # Run both clients concurrently\n",
    "        await asyncio.gather(\n",
    "            client.run_until_disconnected(),\n",
    "            bot.run_until_disconnected()\n",
    "        )\n",
    "      \n",
    "    except Exception as e:\n",
    "        logger.error(f\"Error in main: {str(e)}\", exc_info=True)\n",
    "\n",
    "    finally:\n",
    "        await client.disconnect()\n",
    "        logger.info(\"Client shutting down...\")\n",
    "        await bot.disconnect()\n",
    "        logger.info(\"Bot shutting down...\")"
   ]
  },
  {
   "cell_type": "code",
   "execution_count": 16,
   "id": "390bdcfb-92a7-442c-ad70-36277b41cff6",
   "metadata": {
    "collapsed": true,
    "jupyter": {
     "outputs_hidden": true
    },
    "scrolled": true
   },
   "outputs": [
    {
     "name": "stderr",
     "output_type": "stream",
     "text": [
      "2025-01-25 14:43:40 - INFO - Starting bot...\n",
      "2025-01-25 14:43:40 - INFO - Connecting to 149.154.167.51:443/TcpFull...\n",
      "2025-01-25 14:43:40 - INFO - Connection to 149.154.167.51:443/TcpFull complete!\n",
      "2025-01-25 14:43:41 - INFO - Connecting to 149.154.167.51:443/TcpFull...\n",
      "2025-01-25 14:43:41 - INFO - Connection to 149.154.167.51:443/TcpFull complete!\n",
      "2025-01-25 14:43:42 - INFO - Updated monitored channels: {'dvachannel', 'ejdailyru', 'why4ch'}\n",
      "2025-01-25 14:43:42 - INFO - Bot started successfully\n",
      "2025-01-25 14:52:10 - INFO - Keyword match in @dvachannel\n",
      "2025-01-25 14:52:55 - INFO - Keyword match in @ejdailyru\n",
      "2025-01-25 14:53:35 - INFO - Keyword match in @ejdailyru\n",
      "2025-01-25 14:53:53 - INFO - Disconnecting from 149.154.167.51:443/TcpFull...\n",
      "2025-01-25 14:53:53 - INFO - Disconnecting from 149.154.167.51:443/TcpFull...\n",
      "2025-01-25 14:53:53 - INFO - Disconnection from 149.154.167.51:443/TcpFull complete!\n",
      "2025-01-25 14:53:53 - INFO - Disconnection from 149.154.167.51:443/TcpFull complete!\n",
      "2025-01-25 14:53:53 - INFO - Not disconnecting (already have no connection)\n",
      "2025-01-25 14:53:53 - INFO - Client shutting down...\n",
      "2025-01-25 14:53:53 - INFO - Not disconnecting (already have no connection)\n",
      "2025-01-25 14:53:53 - INFO - Bot shutting down...\n"
     ]
    },
    {
     "ename": "CancelledError",
     "evalue": "",
     "output_type": "error",
     "traceback": [
      "\u001b[0;31m---------------------------------------------------------------------------\u001b[0m",
      "\u001b[0;31mCancelledError\u001b[0m                            Traceback (most recent call last)",
      "Cell \u001b[0;32mIn[16], line 2\u001b[0m\n\u001b[1;32m      1\u001b[0m \u001b[38;5;28;01mtry\u001b[39;00m:\n\u001b[0;32m----> 2\u001b[0m     \u001b[38;5;28;01mawait\u001b[39;00m main()\n\u001b[1;32m      3\u001b[0m \u001b[38;5;28;01mexcept\u001b[39;00m \u001b[38;5;167;01mKeyboardInterrupt\u001b[39;00m:\n\u001b[1;32m      4\u001b[0m     \u001b[38;5;28mprint\u001b[39m(\u001b[38;5;124m\"\u001b[39m\u001b[38;5;124mInterrupted! Disconnecting client...\u001b[39m\u001b[38;5;124m\"\u001b[39m)\n",
      "Cell \u001b[0;32mIn[15], line 10\u001b[0m, in \u001b[0;36mmain\u001b[0;34m()\u001b[0m\n\u001b[1;32m      8\u001b[0m     logger\u001b[38;5;241m.\u001b[39minfo(\u001b[38;5;124m\"\u001b[39m\u001b[38;5;124mBot started successfully\u001b[39m\u001b[38;5;124m\"\u001b[39m)\n\u001b[1;32m      9\u001b[0m     \u001b[38;5;66;03m# Run both clients concurrently\u001b[39;00m\n\u001b[0;32m---> 10\u001b[0m     \u001b[38;5;28;01mawait\u001b[39;00m asyncio\u001b[38;5;241m.\u001b[39mgather(\n\u001b[1;32m     11\u001b[0m         client\u001b[38;5;241m.\u001b[39mrun_until_disconnected(),\n\u001b[1;32m     12\u001b[0m         bot\u001b[38;5;241m.\u001b[39mrun_until_disconnected()\n\u001b[1;32m     13\u001b[0m     )\n\u001b[1;32m     15\u001b[0m \u001b[38;5;28;01mexcept\u001b[39;00m \u001b[38;5;167;01mException\u001b[39;00m \u001b[38;5;28;01mas\u001b[39;00m e:\n\u001b[1;32m     16\u001b[0m     logger\u001b[38;5;241m.\u001b[39merror(\u001b[38;5;124mf\u001b[39m\u001b[38;5;124m\"\u001b[39m\u001b[38;5;124mError in main: \u001b[39m\u001b[38;5;132;01m{\u001b[39;00m\u001b[38;5;28mstr\u001b[39m(e)\u001b[38;5;132;01m}\u001b[39;00m\u001b[38;5;124m\"\u001b[39m, exc_info\u001b[38;5;241m=\u001b[39m\u001b[38;5;28;01mTrue\u001b[39;00m)\n",
      "File \u001b[0;32m~/miniforge3/lib/python3.12/asyncio/tasks.py:385\u001b[0m, in \u001b[0;36mTask.__wakeup\u001b[0;34m(self, future)\u001b[0m\n\u001b[1;32m    383\u001b[0m \u001b[38;5;28;01mdef\u001b[39;00m \u001b[38;5;21m__wakeup\u001b[39m(\u001b[38;5;28mself\u001b[39m, future):\n\u001b[1;32m    384\u001b[0m     \u001b[38;5;28;01mtry\u001b[39;00m:\n\u001b[0;32m--> 385\u001b[0m         \u001b[43mfuture\u001b[49m\u001b[38;5;241;43m.\u001b[39;49m\u001b[43mresult\u001b[49m\u001b[43m(\u001b[49m\u001b[43m)\u001b[49m\n\u001b[1;32m    386\u001b[0m     \u001b[38;5;28;01mexcept\u001b[39;00m \u001b[38;5;167;01mBaseException\u001b[39;00m \u001b[38;5;28;01mas\u001b[39;00m exc:\n\u001b[1;32m    387\u001b[0m         \u001b[38;5;66;03m# This may also be a cancellation.\u001b[39;00m\n\u001b[1;32m    388\u001b[0m         \u001b[38;5;28mself\u001b[39m\u001b[38;5;241m.\u001b[39m__step(exc)\n",
      "File \u001b[0;32m~/miniforge3/lib/python3.12/asyncio/tasks.py:314\u001b[0m, in \u001b[0;36mTask.__step_run_and_handle_result\u001b[0;34m(***failed resolving arguments***)\u001b[0m\n\u001b[1;32m    310\u001b[0m \u001b[38;5;28;01mtry\u001b[39;00m:\n\u001b[1;32m    311\u001b[0m     \u001b[38;5;28;01mif\u001b[39;00m exc \u001b[38;5;129;01mis\u001b[39;00m \u001b[38;5;28;01mNone\u001b[39;00m:\n\u001b[1;32m    312\u001b[0m         \u001b[38;5;66;03m# We use the `send` method directly, because coroutines\u001b[39;00m\n\u001b[1;32m    313\u001b[0m         \u001b[38;5;66;03m# don't have `__iter__` and `__next__` methods.\u001b[39;00m\n\u001b[0;32m--> 314\u001b[0m         result \u001b[38;5;241m=\u001b[39m \u001b[43mcoro\u001b[49m\u001b[38;5;241;43m.\u001b[39;49m\u001b[43msend\u001b[49m\u001b[43m(\u001b[49m\u001b[38;5;28;43;01mNone\u001b[39;49;00m\u001b[43m)\u001b[49m\n\u001b[1;32m    315\u001b[0m     \u001b[38;5;28;01melse\u001b[39;00m:\n\u001b[1;32m    316\u001b[0m         result \u001b[38;5;241m=\u001b[39m coro\u001b[38;5;241m.\u001b[39mthrow(exc)\n",
      "File \u001b[0;32m~/miniforge3/lib/python3.12/site-packages/telethon/client/updates.py:36\u001b[0m, in \u001b[0;36mUpdateMethods._run_until_disconnected\u001b[0;34m(self)\u001b[0m\n\u001b[1;32m     33\u001b[0m \u001b[38;5;28;01mtry\u001b[39;00m:\n\u001b[1;32m     34\u001b[0m     \u001b[38;5;66;03m# Make a high-level request to notify that we want updates\u001b[39;00m\n\u001b[1;32m     35\u001b[0m     \u001b[38;5;28;01mawait\u001b[39;00m \u001b[38;5;28mself\u001b[39m(functions\u001b[38;5;241m.\u001b[39mupdates\u001b[38;5;241m.\u001b[39mGetStateRequest())\n\u001b[0;32m---> 36\u001b[0m     result \u001b[38;5;241m=\u001b[39m \u001b[38;5;28;01mawait\u001b[39;00m \u001b[38;5;28mself\u001b[39m\u001b[38;5;241m.\u001b[39mdisconnected\n\u001b[1;32m     37\u001b[0m     \u001b[38;5;28;01mif\u001b[39;00m \u001b[38;5;28mself\u001b[39m\u001b[38;5;241m.\u001b[39m_updates_error \u001b[38;5;129;01mis\u001b[39;00m \u001b[38;5;129;01mnot\u001b[39;00m \u001b[38;5;28;01mNone\u001b[39;00m:\n\u001b[1;32m     38\u001b[0m         \u001b[38;5;28;01mraise\u001b[39;00m \u001b[38;5;28mself\u001b[39m\u001b[38;5;241m.\u001b[39m_updates_error\n",
      "File \u001b[0;32m~/miniforge3/lib/python3.12/asyncio/futures.py:289\u001b[0m, in \u001b[0;36mFuture.__await__\u001b[0;34m(self)\u001b[0m\n\u001b[1;32m    287\u001b[0m \u001b[38;5;28;01mif\u001b[39;00m \u001b[38;5;129;01mnot\u001b[39;00m \u001b[38;5;28mself\u001b[39m\u001b[38;5;241m.\u001b[39mdone():\n\u001b[1;32m    288\u001b[0m     \u001b[38;5;28mself\u001b[39m\u001b[38;5;241m.\u001b[39m_asyncio_future_blocking \u001b[38;5;241m=\u001b[39m \u001b[38;5;28;01mTrue\u001b[39;00m\n\u001b[0;32m--> 289\u001b[0m     \u001b[38;5;28;01myield\u001b[39;00m \u001b[38;5;28mself\u001b[39m  \u001b[38;5;66;03m# This tells Task to wait for completion.\u001b[39;00m\n\u001b[1;32m    290\u001b[0m \u001b[38;5;28;01mif\u001b[39;00m \u001b[38;5;129;01mnot\u001b[39;00m \u001b[38;5;28mself\u001b[39m\u001b[38;5;241m.\u001b[39mdone():\n\u001b[1;32m    291\u001b[0m     \u001b[38;5;28;01mraise\u001b[39;00m \u001b[38;5;167;01mRuntimeError\u001b[39;00m(\u001b[38;5;124m\"\u001b[39m\u001b[38;5;124mawait wasn\u001b[39m\u001b[38;5;124m'\u001b[39m\u001b[38;5;124mt used with future\u001b[39m\u001b[38;5;124m\"\u001b[39m)\n",
      "File \u001b[0;32m~/miniforge3/lib/python3.12/asyncio/tasks.py:385\u001b[0m, in \u001b[0;36mTask.__wakeup\u001b[0;34m(self, future)\u001b[0m\n\u001b[1;32m    383\u001b[0m \u001b[38;5;28;01mdef\u001b[39;00m \u001b[38;5;21m__wakeup\u001b[39m(\u001b[38;5;28mself\u001b[39m, future):\n\u001b[1;32m    384\u001b[0m     \u001b[38;5;28;01mtry\u001b[39;00m:\n\u001b[0;32m--> 385\u001b[0m         \u001b[43mfuture\u001b[49m\u001b[38;5;241;43m.\u001b[39;49m\u001b[43mresult\u001b[49m\u001b[43m(\u001b[49m\u001b[43m)\u001b[49m\n\u001b[1;32m    386\u001b[0m     \u001b[38;5;28;01mexcept\u001b[39;00m \u001b[38;5;167;01mBaseException\u001b[39;00m \u001b[38;5;28;01mas\u001b[39;00m exc:\n\u001b[1;32m    387\u001b[0m         \u001b[38;5;66;03m# This may also be a cancellation.\u001b[39;00m\n\u001b[1;32m    388\u001b[0m         \u001b[38;5;28mself\u001b[39m\u001b[38;5;241m.\u001b[39m__step(exc)\n",
      "File \u001b[0;32m~/miniforge3/lib/python3.12/asyncio/futures.py:197\u001b[0m, in \u001b[0;36mFuture.result\u001b[0;34m(self)\u001b[0m\n\u001b[1;32m    190\u001b[0m \u001b[38;5;250m\u001b[39m\u001b[38;5;124;03m\"\"\"Return the result this future represents.\u001b[39;00m\n\u001b[1;32m    191\u001b[0m \n\u001b[1;32m    192\u001b[0m \u001b[38;5;124;03mIf the future has been cancelled, raises CancelledError.  If the\u001b[39;00m\n\u001b[1;32m    193\u001b[0m \u001b[38;5;124;03mfuture's result isn't yet available, raises InvalidStateError.  If\u001b[39;00m\n\u001b[1;32m    194\u001b[0m \u001b[38;5;124;03mthe future is done and has an exception set, this exception is raised.\u001b[39;00m\n\u001b[1;32m    195\u001b[0m \u001b[38;5;124;03m\"\"\"\u001b[39;00m\n\u001b[1;32m    196\u001b[0m \u001b[38;5;28;01mif\u001b[39;00m \u001b[38;5;28mself\u001b[39m\u001b[38;5;241m.\u001b[39m_state \u001b[38;5;241m==\u001b[39m _CANCELLED:\n\u001b[0;32m--> 197\u001b[0m     \u001b[38;5;28;01mraise\u001b[39;00m \u001b[38;5;28mself\u001b[39m\u001b[38;5;241m.\u001b[39m_make_cancelled_error()\n\u001b[1;32m    198\u001b[0m \u001b[38;5;28;01mif\u001b[39;00m \u001b[38;5;28mself\u001b[39m\u001b[38;5;241m.\u001b[39m_state \u001b[38;5;241m!=\u001b[39m _FINISHED:\n\u001b[1;32m    199\u001b[0m     \u001b[38;5;28;01mraise\u001b[39;00m exceptions\u001b[38;5;241m.\u001b[39mInvalidStateError(\u001b[38;5;124m'\u001b[39m\u001b[38;5;124mResult is not ready.\u001b[39m\u001b[38;5;124m'\u001b[39m)\n",
      "\u001b[0;31mCancelledError\u001b[0m: "
     ]
    }
   ],
   "source": [
    "try:\n",
    "    await main()\n",
    "except KeyboardInterrupt:\n",
    "    print(\"Interrupted! Disconnecting client...\")\n",
    "    #await client.disconnect()\n",
    "    #await bot.disconnect()"
   ]
  },
  {
   "cell_type": "code",
   "execution_count": null,
   "id": "fa3f0ae6-880c-4b8e-906a-945b5ab93ed6",
   "metadata": {},
   "outputs": [],
   "source": [
    "#и, вчера, по, от, он, в, сказал, сегодня, на"
   ]
  },
  {
   "cell_type": "code",
   "execution_count": null,
   "id": "ea3853a5-45cc-4306-9e51-17b256a2f386",
   "metadata": {},
   "outputs": [],
   "source": []
  },
  {
   "cell_type": "code",
   "execution_count": null,
   "id": "e434266f-d57a-49b8-9ee7-56f6db4c5e49",
   "metadata": {},
   "outputs": [],
   "source": []
  },
  {
   "cell_type": "code",
   "execution_count": null,
   "id": "fdc8fa85-0e6e-4f78-ba3a-8491ee7c1038",
   "metadata": {},
   "outputs": [],
   "source": []
  },
  {
   "cell_type": "markdown",
   "id": "416f80cc-9a0b-42b1-b806-b723da149cd8",
   "metadata": {},
   "source": [
    "## Testing"
   ]
  },
  {
   "cell_type": "markdown",
   "id": "9cca7f33-85a3-414d-a054-dcc4576c45d0",
   "metadata": {},
   "source": [
    "Test getting messages from a specified channel and checking if they contain keywords."
   ]
  },
  {
   "cell_type": "code",
   "execution_count": null,
   "id": "30e497bf-e0aa-4d82-8987-4f06a1197c96",
   "metadata": {
    "jupyter": {
     "source_hidden": true
    }
   },
   "outputs": [],
   "source": [
    "channel_username = 'ejdailyru'\n",
    "keywords = {'на', 'по', 'и', 'в'}"
   ]
  },
  {
   "cell_type": "code",
   "execution_count": null,
   "id": "17735b29-2425-4e66-943c-2a825fb82cca",
   "metadata": {
    "jupyter": {
     "source_hidden": true
    }
   },
   "outputs": [],
   "source": [
    "def contains_keywords(text: str, keywords: list[str]) -> bool:\n",
    "    return any(keyword.lower() in text.lower() for keyword in keywords)"
   ]
  },
  {
   "cell_type": "code",
   "execution_count": null,
   "id": "72048c60-369f-4068-a41f-e2ea708a5c2e",
   "metadata": {
    "jupyter": {
     "source_hidden": true
    }
   },
   "outputs": [],
   "source": [
    "async def test_get_messages():\n",
    "    try:\n",
    "        await client.start()\n",
    "        # Let's test with a simple message retrieval\n",
    "        messages = await client.get_messages(channel_username, limit=3)\n",
    "        for msg in messages: \n",
    "            #print(f\"{msg.text[:10]}...\\n\" if msg.text else 'No text')\n",
    "            if msg.text and contains_keywords(msg.text, keywords): print(f\"Found keyword in message: {msg.text[:100]}...\")\n",
    "            \n",
    "    except Exception as e:\n",
    "        print(str(e))\n",
    "\n",
    "    finally:\n",
    "        await client.disconnect()\n",
    "        print(\"Client disconnected!\")"
   ]
  },
  {
   "cell_type": "code",
   "execution_count": null,
   "id": "06156915-8205-444e-bf84-bb872078d0a7",
   "metadata": {
    "jupyter": {
     "source_hidden": true
    }
   },
   "outputs": [],
   "source": [
    "# Now try running the main function\n",
    "try:\n",
    "    await test_get_messages()\n",
    "except KeyboardInterrupt:\n",
    "    print(\"Interrupted! Disconnecting client...\")\n",
    "    await client.disconnect()"
   ]
  },
  {
   "cell_type": "markdown",
   "id": "b9b3ffa1-25d6-4f3c-8601-e9026c6e72f5",
   "metadata": {},
   "source": [
    "Test getting new message from a specific channel"
   ]
  },
  {
   "cell_type": "code",
   "execution_count": null,
   "id": "a720ce76-eabd-4f22-9ab7-411f3cc21836",
   "metadata": {
    "jupyter": {
     "source_hidden": true
    }
   },
   "outputs": [],
   "source": [
    "@client.on(events.NewMessage(chats=channel_username))\n",
    "async def handler(event):\n",
    "    if any(k.lower() in event.text.lower() for k in keywords):\n",
    "        print(f\"Keyword found in message: {event.text[:100]}...\")\n"
   ]
  },
  {
   "cell_type": "code",
   "execution_count": null,
   "id": "ba810bff-dae7-40fb-b6fd-ddd35705efd8",
   "metadata": {
    "jupyter": {
     "source_hidden": true
    }
   },
   "outputs": [],
   "source": [
    "async def main():\n",
    "    try:\n",
    "        await client.start()\n",
    "        await client.run_until_disconnected()\n",
    "      \n",
    "    except Exception as e:\n",
    "        print(str(e))\n",
    "\n",
    "    finally:\n",
    "        await client.disconnect()\n",
    "        print(\"Client disconnected!\")"
   ]
  },
  {
   "cell_type": "code",
   "execution_count": null,
   "id": "4a353cf4-7c7d-4789-b1ad-5d3416b91f23",
   "metadata": {
    "scrolled": true
   },
   "outputs": [],
   "source": [
    "# # Now try running the main function\n",
    "# try:\n",
    "#     await main()\n",
    "# except KeyboardInterrupt:\n",
    "#     print(\"Interrupted! Disconnecting client...\")\n",
    "#     await client.disconnect()"
   ]
  },
  {
   "cell_type": "code",
   "execution_count": null,
   "id": "0c53eea3-f241-41a0-8a78-48e4547179f7",
   "metadata": {},
   "outputs": [],
   "source": []
  }
 ],
 "metadata": {
  "kernelspec": {
   "display_name": "Python 3 (ipykernel)",
   "language": "python",
   "name": "python3"
  },
  "language_info": {
   "codemirror_mode": {
    "name": "ipython",
    "version": 3
   },
   "file_extension": ".py",
   "mimetype": "text/x-python",
   "name": "python",
   "nbconvert_exporter": "python",
   "pygments_lexer": "ipython3",
   "version": "3.12.8"
  }
 },
 "nbformat": 4,
 "nbformat_minor": 5
}
