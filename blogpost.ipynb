{
 "cells": [
  {
   "cell_type": "markdown",
   "id": "52153dfc-cab9-44f8-a524-a6019e2b6329",
   "metadata": {},
   "source": [
    "# Journey creating a very simple TGBot"
   ]
  },
  {
   "cell_type": "markdown",
   "id": "7a8f2316-8bb2-4f2e-894f-0692e128d198",
   "metadata": {},
   "source": [
    "After Solveit lesson 6 I wanted to try using the framework with some more practical examples. In Eastern Europe, where I live, Telegram is a popular messenger which also has different channels on various themes. For me the usual problem with being subscribed to many channels is becoming quickly overwhelmed with constant notifications from all of them. The usual solution is to disable notifications for the channels, but then you have hundreds of unread posts from different channel and havee to scroll through all of them to see if there is something of interest.\n",
    "\n",
    "Telegram alos have a feature that allows any user to create a telegram bot that can be used for various tasks (including payments, subscription management, shopping, authentification on external services, etc.) What came to my mind is to try create "
   ]
  },
  {
   "cell_type": "markdown",
   "id": "6544034a-cc7d-42c5-bcf1-c23cedc48b98",
   "metadata": {},
   "source": [
    "For me the key points that I will derive from this experience are:\n",
    "1. Dividing the problem is small pieces and using iterations to build upon is very important. \n",
    "2. Importance of providing more thorough explanations to solveit - what I actually want to create and how it shall work\n",
    "3. dfas"
   ]
  },
  {
   "cell_type": "markdown",
   "id": "fb3f61f6-c98f-49b7-aac0-47fdd8eeb683",
   "metadata": {},
   "source": [
    "## Dividing the problem is small pieces and using iterations"
   ]
  },
  {
   "cell_type": "markdown",
   "id": "9814e274-cb94-43e6-9442-672aa50d6d30",
   "metadata": {},
   "source": [
    "I also wanted to compare the results that I get from using solvit with ChatGPT 4o. So basically I provided the same initial prompt to both solveit and ChatGPT. ChatGPT provided me immediately with a huge response starting from setting yp the telegram bot, importing the necessary libraries and all of the necessary code and even deployment options. Experience with solveit was quite different - instead of providing me with the solution it was advancing step by step and asked me questions about my experience with pythom, APIs and the goal of my bot. And then we started going through different functions one by one.\n",
    "\n",
    "Interestingly, initially the library proposed by solveit (python-telegram-bot library) and by ChatGPT (telethon) were diffrent. I then asked both frameworks about what library is best to use and they agreed that telethon was more advanced and particularly more suitable for my task at hand. Even in asking this question I got very differently structued responses from assistants. Solveit reply was much more concise (see below), while ChatGPT provided very extensive answer with comparison table, considerations section, recommendation section and even proposed hybrid solution.\n"
   ]
  },
  {
   "cell_type": "markdown",
   "id": "8f7395a3-f9bd-4ec9-b036-3f5dedd8782e",
   "metadata": {},
   "source": [
    "\n",
    "Solveit reply:\n",
    "``` \n",
    "For your specific task of monitoring channels for keywords, Telethon is definitely the better choice because:\n",
    "\n",
    "1. Channel Monitoring:\n",
    "   - Telethon can easily monitor multiple channels simultaneously\n",
    "   - It has better access to channel message history\n",
    "   - It can access private channels you're a member of\n",
    "\n",
    "2. Performance:\n",
    "   - Telethon uses Telegram's MTProto protocol, which is more efficient for reading messages\n",
    "   - It has lower overhead for monitoring tasks\n",
    "\n",
    "3. Functionality:\n",
    "   - Telethon gives you more control over how you receive and process messages\n",
    "   - It can handle both bot and user-like behaviors\n",
    "\n",
    "The main trade-off is that Telethon requires slightly more setup (API ID/Hash), but this is a one-time process.\n",
    "\n",
    "Would you like to proceed with Telethon? I can help you get started with the setup.\n",
    "```"
   ]
  },
  {
   "cell_type": "markdown",
   "id": "492b538f-0f90-4873-a89c-10ae6127063f",
   "metadata": {},
   "source": [
    "Similar to Jeremy's recommendations I decided to look up the documentation for those libraries. That was very helpful and I even created diffent dialogues with solveit to practice logging and asyncio. Although I had troubles running asyncio within solveit and got errors. We tried to solve those with solveit but in the end solveit assumed that there are restrictons to run async code within this environment. So I used solveit to guide me through examples and used the code inside my local jupyter lab. "
   ]
  },
  {
   "cell_type": "markdown",
   "id": "72955f08-f02b-421b-bbf4-ea3563c002c3",
   "metadata": {},
   "source": [
    "## What next?"
   ]
  },
  {
   "cell_type": "markdown",
   "id": "b168c5fd-a9e5-44a7-8392-3933b676fff7",
   "metadata": {},
   "source": [
    "I understand that this bot is quite simple but for me this was a very useful exercies and I beleive that without solveit and mindset with Jeremy talked about I would not have been able to acheive this. After being able to run this code next steps for me will be as follows:\n",
    "\n",
    "1. Add persistence to my bot using SQL-lite\n",
    "2. Add additional functionality to the bot\n",
    "3. Add nbdev support to automatically convert jupyter notebook to .py file\n",
    "4. Consider hosting options for my code"
   ]
  },
  {
   "cell_type": "code",
   "execution_count": null,
   "id": "9022d3bf-7607-4625-999c-277cb5e4ba46",
   "metadata": {},
   "outputs": [],
   "source": []
  },
  {
   "cell_type": "code",
   "execution_count": null,
   "id": "14ff1f37-d24f-4804-aa93-49acaab2e909",
   "metadata": {},
   "outputs": [],
   "source": []
  },
  {
   "cell_type": "code",
   "execution_count": null,
   "id": "f6174d1b-9bf6-45c7-a48f-23c7871cd542",
   "metadata": {},
   "outputs": [],
   "source": []
  },
  {
   "cell_type": "code",
   "execution_count": null,
   "id": "7cdd3d67-4059-4e5f-8e2d-b9645bb76658",
   "metadata": {},
   "outputs": [],
   "source": []
  },
  {
   "cell_type": "code",
   "execution_count": null,
   "id": "26e80371-f2bd-4682-be05-0392359b300b",
   "metadata": {},
   "outputs": [],
   "source": []
  }
 ],
 "metadata": {
  "kernelspec": {
   "display_name": "Python 3 (ipykernel)",
   "language": "python",
   "name": "python3"
  },
  "language_info": {
   "codemirror_mode": {
    "name": "ipython",
    "version": 3
   },
   "file_extension": ".py",
   "mimetype": "text/x-python",
   "name": "python",
   "nbconvert_exporter": "python",
   "pygments_lexer": "ipython3",
   "version": "3.12.8"
  }
 },
 "nbformat": 4,
 "nbformat_minor": 5
}
